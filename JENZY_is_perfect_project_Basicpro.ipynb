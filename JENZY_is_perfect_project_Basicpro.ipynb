{
  "nbformat": 4,
  "nbformat_minor": 0,
  "metadata": {
    "colab": {
      "provenance": [],
      "toc_visible": true,
      "include_colab_link": true
    },
    "kernelspec": {
      "name": "python3",
      "display_name": "Python 3"
    },
    "language_info": {
      "name": "python"
    }
  },
  "cells": [
    {
      "cell_type": "markdown",
      "metadata": {
        "id": "view-in-github",
        "colab_type": "text"
      },
      "source": [
        "<a href=\"https://colab.research.google.com/github/jangInw007/JENZY_Project/blob/main/JENZY_is_perfect_project_Basicpro.ipynb\" target=\"_parent\"><img src=\"https://colab.research.google.com/assets/colab-badge.svg\" alt=\"Open In Colab\"/></a>"
      ]
    },
    {
      "cell_type": "code",
      "execution_count": 3,
      "metadata": {
        "colab": {
          "base_uri": "https://localhost:8080/"
        },
        "id": "9EkC4A55St--",
        "outputId": "28684218-69d0-48ef-a629-f59642550d13"
      },
      "outputs": [
        {
          "output_type": "stream",
          "name": "stdout",
          "text": [
            "Mounted at /content/drive\n"
          ]
        }
      ],
      "source": [
        "import os\n",
        "from google.colab import drive\n",
        "drive.mount('/content/drive')"
      ]
    },
    {
      "cell_type": "code",
      "source": [
        "path_to_stopandsearch = '/content/drive/MyDrive/JENZY/Data/2025-01'"
      ],
      "metadata": {
        "id": "u3yYKQsNUzj3"
      },
      "execution_count": 20,
      "outputs": []
    },
    {
      "cell_type": "code",
      "source": [
        "import pandas as pd"
      ],
      "metadata": {
        "id": "dbVwt21cYcdv"
      },
      "execution_count": 12,
      "outputs": []
    },
    {
      "cell_type": "code",
      "source": [
        "pd.read_csv(path_to_stopandsearch)"
      ],
      "metadata": {
        "colab": {
          "base_uri": "https://localhost:8080/",
          "height": 304
        },
        "collapsed": true,
        "id": "HKoLVpQ8hU27",
        "outputId": "0c6a892d-062f-4603-d34f-c0601d6e75ec"
      },
      "execution_count": 21,
      "outputs": [
        {
          "output_type": "error",
          "ename": "IsADirectoryError",
          "evalue": "[Errno 21] Is a directory: '/content/drive/MyDrive/JENZY/Data/2025-01'",
          "traceback": [
            "\u001b[0;31m---------------------------------------------------------------------------\u001b[0m",
            "\u001b[0;31mIsADirectoryError\u001b[0m                         Traceback (most recent call last)",
            "\u001b[0;32m/tmp/ipython-input-691424289.py\u001b[0m in \u001b[0;36m<cell line: 0>\u001b[0;34m()\u001b[0m\n\u001b[0;32m----> 1\u001b[0;31m \u001b[0mpd\u001b[0m\u001b[0;34m.\u001b[0m\u001b[0mread_csv\u001b[0m\u001b[0;34m(\u001b[0m\u001b[0mpath_to_stopandsearch\u001b[0m\u001b[0;34m)\u001b[0m\u001b[0;34m\u001b[0m\u001b[0;34m\u001b[0m\u001b[0m\n\u001b[0m",
            "\u001b[0;32m/usr/local/lib/python3.12/dist-packages/pandas/io/parsers/readers.py\u001b[0m in \u001b[0;36mread_csv\u001b[0;34m(filepath_or_buffer, sep, delimiter, header, names, index_col, usecols, dtype, engine, converters, true_values, false_values, skipinitialspace, skiprows, skipfooter, nrows, na_values, keep_default_na, na_filter, verbose, skip_blank_lines, parse_dates, infer_datetime_format, keep_date_col, date_parser, date_format, dayfirst, cache_dates, iterator, chunksize, compression, thousands, decimal, lineterminator, quotechar, quoting, doublequote, escapechar, comment, encoding, encoding_errors, dialect, on_bad_lines, delim_whitespace, low_memory, memory_map, float_precision, storage_options, dtype_backend)\u001b[0m\n\u001b[1;32m   1024\u001b[0m     \u001b[0mkwds\u001b[0m\u001b[0;34m.\u001b[0m\u001b[0mupdate\u001b[0m\u001b[0;34m(\u001b[0m\u001b[0mkwds_defaults\u001b[0m\u001b[0;34m)\u001b[0m\u001b[0;34m\u001b[0m\u001b[0;34m\u001b[0m\u001b[0m\n\u001b[1;32m   1025\u001b[0m \u001b[0;34m\u001b[0m\u001b[0m\n\u001b[0;32m-> 1026\u001b[0;31m     \u001b[0;32mreturn\u001b[0m \u001b[0m_read\u001b[0m\u001b[0;34m(\u001b[0m\u001b[0mfilepath_or_buffer\u001b[0m\u001b[0;34m,\u001b[0m \u001b[0mkwds\u001b[0m\u001b[0;34m)\u001b[0m\u001b[0;34m\u001b[0m\u001b[0;34m\u001b[0m\u001b[0m\n\u001b[0m\u001b[1;32m   1027\u001b[0m \u001b[0;34m\u001b[0m\u001b[0m\n\u001b[1;32m   1028\u001b[0m \u001b[0;34m\u001b[0m\u001b[0m\n",
            "\u001b[0;32m/usr/local/lib/python3.12/dist-packages/pandas/io/parsers/readers.py\u001b[0m in \u001b[0;36m_read\u001b[0;34m(filepath_or_buffer, kwds)\u001b[0m\n\u001b[1;32m    618\u001b[0m \u001b[0;34m\u001b[0m\u001b[0m\n\u001b[1;32m    619\u001b[0m     \u001b[0;31m# Create the parser.\u001b[0m\u001b[0;34m\u001b[0m\u001b[0;34m\u001b[0m\u001b[0m\n\u001b[0;32m--> 620\u001b[0;31m     \u001b[0mparser\u001b[0m \u001b[0;34m=\u001b[0m \u001b[0mTextFileReader\u001b[0m\u001b[0;34m(\u001b[0m\u001b[0mfilepath_or_buffer\u001b[0m\u001b[0;34m,\u001b[0m \u001b[0;34m**\u001b[0m\u001b[0mkwds\u001b[0m\u001b[0;34m)\u001b[0m\u001b[0;34m\u001b[0m\u001b[0;34m\u001b[0m\u001b[0m\n\u001b[0m\u001b[1;32m    621\u001b[0m \u001b[0;34m\u001b[0m\u001b[0m\n\u001b[1;32m    622\u001b[0m     \u001b[0;32mif\u001b[0m \u001b[0mchunksize\u001b[0m \u001b[0;32mor\u001b[0m \u001b[0miterator\u001b[0m\u001b[0;34m:\u001b[0m\u001b[0;34m\u001b[0m\u001b[0;34m\u001b[0m\u001b[0m\n",
            "\u001b[0;32m/usr/local/lib/python3.12/dist-packages/pandas/io/parsers/readers.py\u001b[0m in \u001b[0;36m__init__\u001b[0;34m(self, f, engine, **kwds)\u001b[0m\n\u001b[1;32m   1618\u001b[0m \u001b[0;34m\u001b[0m\u001b[0m\n\u001b[1;32m   1619\u001b[0m         \u001b[0mself\u001b[0m\u001b[0;34m.\u001b[0m\u001b[0mhandles\u001b[0m\u001b[0;34m:\u001b[0m \u001b[0mIOHandles\u001b[0m \u001b[0;34m|\u001b[0m \u001b[0;32mNone\u001b[0m \u001b[0;34m=\u001b[0m \u001b[0;32mNone\u001b[0m\u001b[0;34m\u001b[0m\u001b[0;34m\u001b[0m\u001b[0m\n\u001b[0;32m-> 1620\u001b[0;31m         \u001b[0mself\u001b[0m\u001b[0;34m.\u001b[0m\u001b[0m_engine\u001b[0m \u001b[0;34m=\u001b[0m \u001b[0mself\u001b[0m\u001b[0;34m.\u001b[0m\u001b[0m_make_engine\u001b[0m\u001b[0;34m(\u001b[0m\u001b[0mf\u001b[0m\u001b[0;34m,\u001b[0m \u001b[0mself\u001b[0m\u001b[0;34m.\u001b[0m\u001b[0mengine\u001b[0m\u001b[0;34m)\u001b[0m\u001b[0;34m\u001b[0m\u001b[0;34m\u001b[0m\u001b[0m\n\u001b[0m\u001b[1;32m   1621\u001b[0m \u001b[0;34m\u001b[0m\u001b[0m\n\u001b[1;32m   1622\u001b[0m     \u001b[0;32mdef\u001b[0m \u001b[0mclose\u001b[0m\u001b[0;34m(\u001b[0m\u001b[0mself\u001b[0m\u001b[0;34m)\u001b[0m \u001b[0;34m->\u001b[0m \u001b[0;32mNone\u001b[0m\u001b[0;34m:\u001b[0m\u001b[0;34m\u001b[0m\u001b[0;34m\u001b[0m\u001b[0m\n",
            "\u001b[0;32m/usr/local/lib/python3.12/dist-packages/pandas/io/parsers/readers.py\u001b[0m in \u001b[0;36m_make_engine\u001b[0;34m(self, f, engine)\u001b[0m\n\u001b[1;32m   1878\u001b[0m                 \u001b[0;32mif\u001b[0m \u001b[0;34m\"b\"\u001b[0m \u001b[0;32mnot\u001b[0m \u001b[0;32min\u001b[0m \u001b[0mmode\u001b[0m\u001b[0;34m:\u001b[0m\u001b[0;34m\u001b[0m\u001b[0;34m\u001b[0m\u001b[0m\n\u001b[1;32m   1879\u001b[0m                     \u001b[0mmode\u001b[0m \u001b[0;34m+=\u001b[0m \u001b[0;34m\"b\"\u001b[0m\u001b[0;34m\u001b[0m\u001b[0;34m\u001b[0m\u001b[0m\n\u001b[0;32m-> 1880\u001b[0;31m             self.handles = get_handle(\n\u001b[0m\u001b[1;32m   1881\u001b[0m                 \u001b[0mf\u001b[0m\u001b[0;34m,\u001b[0m\u001b[0;34m\u001b[0m\u001b[0;34m\u001b[0m\u001b[0m\n\u001b[1;32m   1882\u001b[0m                 \u001b[0mmode\u001b[0m\u001b[0;34m,\u001b[0m\u001b[0;34m\u001b[0m\u001b[0;34m\u001b[0m\u001b[0m\n",
            "\u001b[0;32m/usr/local/lib/python3.12/dist-packages/pandas/io/common.py\u001b[0m in \u001b[0;36mget_handle\u001b[0;34m(path_or_buf, mode, encoding, compression, memory_map, is_text, errors, storage_options)\u001b[0m\n\u001b[1;32m    871\u001b[0m         \u001b[0;32mif\u001b[0m \u001b[0mioargs\u001b[0m\u001b[0;34m.\u001b[0m\u001b[0mencoding\u001b[0m \u001b[0;32mand\u001b[0m \u001b[0;34m\"b\"\u001b[0m \u001b[0;32mnot\u001b[0m \u001b[0;32min\u001b[0m \u001b[0mioargs\u001b[0m\u001b[0;34m.\u001b[0m\u001b[0mmode\u001b[0m\u001b[0;34m:\u001b[0m\u001b[0;34m\u001b[0m\u001b[0;34m\u001b[0m\u001b[0m\n\u001b[1;32m    872\u001b[0m             \u001b[0;31m# Encoding\u001b[0m\u001b[0;34m\u001b[0m\u001b[0;34m\u001b[0m\u001b[0m\n\u001b[0;32m--> 873\u001b[0;31m             handle = open(\n\u001b[0m\u001b[1;32m    874\u001b[0m                 \u001b[0mhandle\u001b[0m\u001b[0;34m,\u001b[0m\u001b[0;34m\u001b[0m\u001b[0;34m\u001b[0m\u001b[0m\n\u001b[1;32m    875\u001b[0m                 \u001b[0mioargs\u001b[0m\u001b[0;34m.\u001b[0m\u001b[0mmode\u001b[0m\u001b[0;34m,\u001b[0m\u001b[0;34m\u001b[0m\u001b[0;34m\u001b[0m\u001b[0m\n",
            "\u001b[0;31mIsADirectoryError\u001b[0m: [Errno 21] Is a directory: '/content/drive/MyDrive/JENZY/Data/2025-01'"
          ]
        }
      ]
    },
    {
      "cell_type": "code",
      "metadata": {
        "colab": {
          "base_uri": "https://localhost:8080/"
        },
        "collapsed": true,
        "id": "ea3e124c",
        "outputId": "7161765f-2274-473c-f43c-e789b1adcf8b"
      },
      "source": [
        "import os\n",
        "\n",
        "directory_path = '/content/drive/MyDrive/JENZY/Data/2025-01'\n",
        "files_in_directory = os.listdir(directory_path)\n",
        "\n",
        "print(f\"Files in directory: {directory_path}\")\n",
        "for file in files_in_directory:\n",
        "    print(file)"
      ],
      "execution_count": 24,
      "outputs": [
        {
          "output_type": "stream",
          "name": "stdout",
          "text": [
            "Files in directory: /content/drive/MyDrive/JENZY/Data/2025-01\n",
            "2025-01-hampshire-stop-and-search.csv\n",
            "2025-01-suffolk-street.csv\n",
            "2025-01-avon-and-somerset-stop-and-search.csv\n",
            "2025-01-gloucestershire-outcomes.csv\n",
            "2025-01-cheshire-stop-and-search.csv\n",
            "2025-01-devon-and-cornwall-stop-and-search.csv\n",
            "2025-01-west-yorkshire-street.csv\n",
            "2025-01-northamptonshire-outcomes.csv\n",
            "2025-01-gwent-street.csv\n",
            "2025-01-staffordshire-street.csv\n",
            "2025-01-dyfed-powys-street.csv\n",
            "2025-01-warwickshire-stop-and-search.csv\n",
            "2025-01-north-wales-stop-and-search.csv\n",
            "2025-01-northumbria-outcomes.csv\n",
            "2025-01-cheshire-outcomes.csv\n",
            "2025-01-norfolk-street.csv\n",
            "2025-01-lincolnshire-street.csv\n",
            "2025-01-derbyshire-stop-and-search.csv\n",
            "2025-01-south-wales-outcomes.csv\n",
            "2025-01-cumbria-street.csv\n",
            "2025-01-merseyside-street.csv\n",
            "2025-01-cleveland-outcomes.csv\n",
            "2025-01-cambridgeshire-stop-and-search.csv\n",
            "2025-01-dyfed-powys-stop-and-search.csv\n",
            "2025-01-cumbria-outcomes.csv\n",
            "2025-01-thames-valley-street.csv\n",
            "2025-01-leicestershire-street.csv\n",
            "2025-01-west-mercia-outcomes.csv\n",
            "2025-01-lancashire-outcomes.csv\n",
            "2025-01-city-of-london-outcomes.csv\n",
            "2025-01-wiltshire-outcomes.csv\n",
            "2025-01-lincolnshire-outcomes.csv\n",
            "2025-01-suffolk-stop-and-search.csv\n",
            "2025-01-cambridgeshire-outcomes.csv\n",
            "2025-01-west-midlands-stop-and-search.csv\n",
            "2025-01-essex-outcomes.csv\n",
            "2025-01-south-yorkshire-street.csv\n",
            "2025-01-norfolk-stop-and-search.csv\n",
            "2025-01-durham-stop-and-search.csv\n",
            "2025-01-essex-street.csv\n",
            "2025-01-hertfordshire-street.csv\n",
            "2025-01-bedfordshire-street.csv\n",
            "2025-01-west-mercia-stop-and-search.csv\n",
            "2025-01-nottinghamshire-street.csv\n",
            "2025-01-warwickshire-outcomes.csv\n",
            "2025-01-derbyshire-outcomes.csv\n",
            "2025-01-northamptonshire-street.csv\n",
            "2025-01-merseyside-outcomes.csv\n",
            "2025-01-cumbria-stop-and-search.csv\n",
            "2025-01-city-of-london-stop-and-search.csv\n",
            "2025-01-dorset-street.csv\n",
            "2025-01-devon-and-cornwall-street.csv\n",
            "2025-01-west-yorkshire-stop-and-search.csv\n",
            "2025-01-leicestershire-stop-and-search.csv\n",
            "2025-01-northumbria-stop-and-search.csv\n",
            "2025-01-sussex-street.csv\n",
            "2025-01-sussex-stop-and-search.csv\n",
            "2025-01-wiltshire-street.csv\n",
            "2025-01-warwickshire-street.csv\n",
            "2025-01-metropolitan-outcomes.csv\n",
            "2025-01-kent-stop-and-search.csv\n",
            "2025-01-lancashire-stop-and-search.csv\n",
            "2025-01-north-yorkshire-street.csv\n",
            "2025-01-sussex-outcomes.csv\n",
            "2025-01-nottinghamshire-stop-and-search.csv\n",
            "2025-01-humberside-street.csv\n",
            "2025-01-btp-stop-and-search.csv\n",
            "2025-01-avon-and-somerset-outcomes.csv\n",
            "2025-01-thames-valley-stop-and-search.csv\n",
            "2025-01-city-of-london-street.csv\n",
            "2025-01-merseyside-stop-and-search.csv\n",
            "2025-01-surrey-stop-and-search.csv\n",
            "2025-01-west-mercia-street.csv\n",
            "2025-01-essex-stop-and-search.csv\n",
            "2025-01-leicestershire-outcomes.csv\n",
            "2025-01-norfolk-outcomes.csv\n",
            "2025-01-lancashire-street.csv\n",
            "2025-01-metropolitan-street.csv\n",
            "2025-01-south-yorkshire-outcomes.csv\n",
            "2025-01-surrey-street.csv\n",
            "2025-01-west-midlands-street.csv\n",
            "2025-01-kent-outcomes.csv\n",
            "2025-01-cambridgeshire-street.csv\n",
            "2025-01-hampshire-street.csv\n",
            "2025-01-metropolitan-stop-and-search.csv\n",
            "2025-01-surrey-outcomes.csv\n",
            "2025-01-northamptonshire-stop-and-search.csv\n",
            "2025-01-gwent-outcomes.csv\n",
            "2025-01-nottinghamshire-outcomes.csv\n",
            "2025-01-bedfordshire-outcomes.csv\n",
            "2025-01-dyfed-powys-outcomes.csv\n",
            "2025-01-kent-street.csv\n",
            "2025-01-hampshire-outcomes.csv\n",
            "2025-01-avon-and-somerset-street.csv\n",
            "2025-01-suffolk-outcomes.csv\n",
            "2025-01-btp-street.csv\n",
            "2025-01-durham-outcomes.csv\n",
            "2025-01-staffordshire-outcomes.csv\n",
            "2025-01-dorset-outcomes.csv\n",
            "2025-01-humberside-outcomes.csv\n",
            "2025-01-gloucestershire-street.csv\n",
            "2025-01-cleveland-street.csv\n",
            "2025-01-dorset-stop-and-search.csv\n",
            "2025-01-west-midlands-outcomes.csv\n",
            "2025-01-bedfordshire-stop-and-search.csv\n",
            "2025-01-cleveland-stop-and-search.csv\n",
            "2025-01-north-wales-outcomes.csv\n",
            "2025-01-south-wales-street.csv\n",
            "2025-01-northumbria-street.csv\n",
            "2025-01-north-wales-street.csv\n",
            "2025-01-south-wales-stop-and-search.csv\n",
            "2025-01-thames-valley-outcomes.csv\n",
            "2025-01-gloucestershire-stop-and-search.csv\n",
            "2025-01-durham-street.csv\n",
            "2025-01-south-yorkshire-stop-and-search.csv\n",
            "2025-01-hertfordshire-stop-and-search.csv\n",
            "2025-01-derbyshire-street.csv\n",
            "2025-01-north-yorkshire-outcomes.csv\n",
            "2025-01-hertfordshire-outcomes.csv\n",
            "2025-01-cheshire-street.csv\n",
            "2025-01-devon-and-cornwall-outcomes.csv\n",
            "2025-01-west-yorkshire-outcomes.csv\n",
            "2025-01-staffordshire-stop-and-search.csv\n"
          ]
        }
      ]
    },
    {
      "cell_type": "markdown",
      "source": [
        "1.อธิบายข้อมูล ว่าข้อมูลที่ใช้คืออะไร"
      ],
      "metadata": {
        "id": "hLu-OYDJYuHF"
      }
    },
    {
      "cell_type": "markdown",
      "source": [
        "1.ดูว่ามีไฟล์กี่ประเภท เช่น stop and search...\n",
        "\n",
        "2.มีกี่เมืองในแต่ละเดือน\n",
        "\n",
        "3.แต่ละประเภท ในแต่ละ เดือน มีเมืองเท่ากันไหม"
      ],
      "metadata": {
        "id": "hmrNjcZqinrF"
      }
    },
    {
      "cell_type": "markdown",
      "source": [
        "2.เตรียมข้อมูล ทำความสะอาดข้อมูล"
      ],
      "metadata": {
        "id": "nBWFx70mZ0DJ"
      }
    },
    {
      "cell_type": "markdown",
      "source": [
        "3.ข้อมูลจริงที่จะนำไปทำ dashboard\n",
        "\n",
        "- ทำกราฟก่อนไปlooker"
      ],
      "metadata": {
        "id": "7rlue0XxZ78F"
      }
    },
    {
      "cell_type": "markdown",
      "source": [
        "Visualize_Table_Data.ipynb\n",
        "- Headmap\n",
        "- pandas: parallel coordinate\n",
        "- pandas: scatter matrix\n",
        "- Scatter plot\n",
        "\n",
        "Visualize_Data_Distribution.ipynb\n",
        "- ใช้ขนาดของ marker แสดงค่าของ feature\n",
        "- ตัวแปร Marker ใช้ในการเปลี่ยนหน้าตาของ marker\n",
        "- การ plot กราฟหลายๆอันซ้อนกัน\n",
        "- Plot-Legend\n",
        "\n",
        "Visualize_Data_Comparison_2025.ipynb\n",
        "- Bar chart (กราฟแท่ง)\n",
        "- Stacked barchart\n",
        "- Group barchart\n",
        "- tree map\n",
        "- Radar Chart"
      ],
      "metadata": {
        "id": "_r5vSR7Ia9Fm"
      }
    }
  ]
}