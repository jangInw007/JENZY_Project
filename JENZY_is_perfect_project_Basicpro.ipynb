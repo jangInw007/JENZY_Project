{
  "nbformat": 4,
  "nbformat_minor": 0,
  "metadata": {
    "colab": {
      "provenance": [],
      "include_colab_link": true
    },
    "kernelspec": {
      "name": "python3",
      "display_name": "Python 3"
    },
    "language_info": {
      "name": "python"
    }
  },
  "cells": [
    {
      "cell_type": "markdown",
      "metadata": {
        "id": "view-in-github",
        "colab_type": "text"
      },
      "source": [
        "<a href=\"https://colab.research.google.com/github/jangInw007/JENZY_Project/blob/main/JENZY_is_perfect_project_Basicpro.ipynb\" target=\"_parent\"><img src=\"https://colab.research.google.com/assets/colab-badge.svg\" alt=\"Open In Colab\"/></a>"
      ]
    },
    {
      "cell_type": "code",
      "execution_count": 1,
      "metadata": {
        "colab": {
          "base_uri": "https://localhost:8080/"
        },
        "id": "9EkC4A55St--",
        "outputId": "420bac4b-2c5e-467f-a8f6-b29e3170452f"
      },
      "outputs": [
        {
          "output_type": "stream",
          "name": "stdout",
          "text": [
            "Mounted at /content/drive\n"
          ]
        }
      ],
      "source": [
        "import os\n",
        "from google.colab import drive\n",
        "drive.mount('/content/drive')"
      ]
    },
    {
      "cell_type": "code",
      "source": [
        "path_to_stopandsearch = '/content/drive/MyDrive/JENZY/Data/2025-01/2025-01-avon-and-somerset-outcomes.csv'"
      ],
      "metadata": {
        "id": "u3yYKQsNUzj3"
      },
      "execution_count": 4,
      "outputs": []
    },
    {
      "cell_type": "code",
      "source": [
        "import pandas as pd"
      ],
      "metadata": {
        "id": "dbVwt21cYcdv"
      },
      "execution_count": 3,
      "outputs": []
    },
    {
      "cell_type": "markdown",
      "source": [
        "1.อธิบายข้อมูล ว่าข้อมูลที่ใช้คืออะไร"
      ],
      "metadata": {
        "id": "hLu-OYDJYuHF"
      }
    },
    {
      "cell_type": "markdown",
      "source": [
        "2.เตรียมข้อมูล ทำความสะอาดข้อมูล"
      ],
      "metadata": {
        "id": "nBWFx70mZ0DJ"
      }
    },
    {
      "cell_type": "markdown",
      "source": [
        "3.ข้อมูลจริงที่จะนำไปทำ dashboard\n",
        "\n",
        "- ทำกราฟก่อนไปlooker"
      ],
      "metadata": {
        "id": "7rlue0XxZ78F"
      }
    },
    {
      "cell_type": "markdown",
      "source": [
        "Visualize_Table_Data.ipynb\n",
        "- Headmap\n",
        "- pandas: parallel coordinate\n",
        "- pandas: scatter matrix\n",
        "- Scatter plot\n",
        "\n",
        "Visualize_Data_Distribution.ipynb\n",
        "- ใช้ขนาดของ marker แสดงค่าของ feature\n",
        "- ตัวแปร Marker ใช้ในการเปลี่ยนหน้าตาของ marker\n",
        "- การ plot กราฟหลายๆอันซ้อนกัน\n",
        "- Plot-Legend\n",
        "\n",
        "Visualize_Data_Comparison_2025.ipynb\n",
        "- Bar chart (กราฟแท่ง)\n",
        "- Stacked barchart\n",
        "- Group barchart\n",
        "- tree map\n",
        "- Radar Chart"
      ],
      "metadata": {
        "id": "_r5vSR7Ia9Fm"
      }
    }
  ]
}